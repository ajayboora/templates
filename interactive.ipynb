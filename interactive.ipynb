{
 "cells": [
  {
   "cell_type": "code",
   "execution_count": 2,
   "metadata": {
    "collapsed": false
   },
   "outputs": [
    {
     "name": "stderr",
     "output_type": "stream",
     "text": [
      ":0: FutureWarning: IPython widgets are experimental and may change in the future.\n"
     ]
    }
   ],
   "source": [
    "%matplotlib inline\n",
    "from __future__ import print_function\n",
    "from pylab import *\n",
    "from IPython.html.widgets import interactive\n",
    "import IPython.html.widgets as widgets\n",
    "from IPython.display import display"
   ]
  },
  {
   "cell_type": "code",
   "execution_count": 3,
   "metadata": {
    "collapsed": false
   },
   "outputs": [
    {
     "data": {
      "image/png": "[encoded data removed]",
      "text/plain": [
       "<matplotlib.figure.Figure at 0x1071bd0b8>"
      ]
     },
     "metadata": {},
     "output_type": "display_data"
    }
   ],
   "source": [
    "from scipy.special import j0, j1, y0, y1\n",
    "\n",
    "def bessel_fig(order, limit, N, static=False):\n",
    "    if order==0: bessel = j0\n",
    "    if order==1: bessel = j1\n",
    "    if order==2: bessel = y0\n",
    "    if order==3: bessel = y1\n",
    "        \n",
    "    x = linspace(-limit, limit, num=N)\n",
    "    y = bessel(x)\n",
    "    \n",
    "    fig = figure()\n",
    "    title('Bessel function of order {0}'.format(order))\n",
    "    plot(x, y)\n",
    "    if not static: show()\n",
    "    if static    : return fig\n",
    "    \n",
    "order_slider = widgets.IntSliderWidget(min=0, max=3, step=1, value=0)\n",
    "limit_slider = widgets.FloatSliderWidget(min=10, max=60, step=0.5, value=10)\n",
    "N_slider     = widgets.IntSliderWidget(min=10, max=100, step=10, value=100)\n",
    "\n",
    "w = interactive(bessel_fig, N=N_slider, order=order_slider, limit=limit_slider)\n",
    "display(w)"
   ]
  },
  {
   "cell_type": "code",
   "execution_count": 19,
   "metadata": {
    "collapsed": false
   },
   "outputs": [],
   "source": [
    "from ipywidgets import StaticInteract, RangeWidget\n",
    "\n",
    "def bessel_fig_static(order):\n",
    "    fig = bessel_fig(order, 30, 100, static=True)\n",
    "    close()\n",
    "    return fig\n",
    "\n",
    "N_slider_s     = RangeWidget(70, 100, 10)\n",
    "order_slider_s = RangeWidget(0, 3)\n",
    "limit_slider_s = RangeWidget(10, 60, 10)\n",
    "\n",
    "w = StaticInteract(bessel_fig_static, order=order_slider_s)"
   ]
  },
  {
   "cell_type": "code",
   "execution_count": 24,
   "metadata": {
    "collapsed": false
   },
   "outputs": [],
   "source": [
    "f = open('widget.html', 'wb')\n",
    "print(w.html(), file=f)"
   ]
  },
  {
   "cell_type": "code",
   "execution_count": null,
   "metadata": {
    "collapsed": true
   },
   "outputs": [],
   "source": []
  }
 ],
 "metadata": {
  "kernelspec": {
   "display_name": "Python 3",
   "language": "python",
   "name": "python3"
  },
  "language_info": {
   "codemirror_mode": {
    "name": "ipython",
    "version": 3
   },
   "file_extension": ".py",
   "mimetype": "text/x-python",
   "name": "python",
   "nbconvert_exporter": "python",
   "pygments_lexer": "ipython3",
   "version": "3.4.3"
  }
 },
 "nbformat": 4,
 "nbformat_minor": 0
}
